{
 "cells": [
  {
   "cell_type": "markdown",
   "metadata": {},
   "source": [
    "### <span style=\"color:darkred\"> $T$ Distribution Biden vs. Trump Likely Voters Comparing Registered Voters </span>"
   ]
  },
  {
   "cell_type": "code",
   "execution_count": 1,
   "metadata": {},
   "outputs": [],
   "source": [
    "import numpy as np\n",
    "import scipy.stats as stats\n",
    "import seaborn as sns\n",
    "import matplotlib.pyplot as plt\n",
    "import pandas as pd\n",
    "import imp\n",
    "\n",
    "sns.set_style('whitegrid')\n",
    "\n",
    "%config InlineBackend.figure_format = 'retina'\n",
    "%matplotlib inline"
   ]
  },
  {
   "cell_type": "code",
   "execution_count": 2,
   "metadata": {},
   "outputs": [
    {
     "data": {
      "text/html": [
       "<div>\n",
       "<style scoped>\n",
       "    .dataframe tbody tr th:only-of-type {\n",
       "        vertical-align: middle;\n",
       "    }\n",
       "\n",
       "    .dataframe tbody tr th {\n",
       "        vertical-align: top;\n",
       "    }\n",
       "\n",
       "    .dataframe thead th {\n",
       "        text-align: right;\n",
       "    }\n",
       "</style>\n",
       "<table border=\"1\" class=\"dataframe\">\n",
       "  <thead>\n",
       "    <tr style=\"text-align: right;\">\n",
       "      <th></th>\n",
       "      <th>Source_LV</th>\n",
       "      <th>Source_RV</th>\n",
       "      <th>Period_LV</th>\n",
       "      <th>Period_RV</th>\n",
       "      <th>Sample_and_Kind_LV</th>\n",
       "      <th>Sample_and_Kind_RV</th>\n",
       "      <th>Result_LV</th>\n",
       "      <th>Result_RV</th>\n",
       "      <th>Biden_Trump_LV</th>\n",
       "      <th>Biden_Trump_RV</th>\n",
       "    </tr>\n",
       "  </thead>\n",
       "  <tbody>\n",
       "    <tr>\n",
       "      <td>0</td>\n",
       "      <td>CNBC/Change Research (D)*</td>\n",
       "      <td>Economist/YouGov</td>\n",
       "      <td>8/7 - 8/9</td>\n",
       "      <td>8/9 - 8/11</td>\n",
       "      <td>2143 LV</td>\n",
       "      <td>1208 RV</td>\n",
       "      <td>Biden +6</td>\n",
       "      <td>Biden +10</td>\n",
       "      <td>6</td>\n",
       "      <td>10</td>\n",
       "    </tr>\n",
       "    <tr>\n",
       "      <td>1</td>\n",
       "      <td>Rasmussen Reports</td>\n",
       "      <td>Monmouth*</td>\n",
       "      <td>8/5 - 8/11</td>\n",
       "      <td>8/6 - 8/10</td>\n",
       "      <td>2500 LV</td>\n",
       "      <td>785 RV</td>\n",
       "      <td>Biden +6</td>\n",
       "      <td>Biden +10</td>\n",
       "      <td>6</td>\n",
       "      <td>10</td>\n",
       "    </tr>\n",
       "    <tr>\n",
       "      <td>2</td>\n",
       "      <td>GU Politics/Battleground</td>\n",
       "      <td>The Hill/HarrisX</td>\n",
       "      <td>8/1 - 8/6</td>\n",
       "      <td>8/2 - 8/5</td>\n",
       "      <td>1000 LV</td>\n",
       "      <td>2850 RV</td>\n",
       "      <td>Biden +13</td>\n",
       "      <td>Biden +3</td>\n",
       "      <td>13</td>\n",
       "      <td>3</td>\n",
       "    </tr>\n",
       "    <tr>\n",
       "      <td>3</td>\n",
       "      <td>Rasmussen Reports</td>\n",
       "      <td>Economist/YouGov</td>\n",
       "      <td>7/29 - 8/4</td>\n",
       "      <td>8/2 - 8/4</td>\n",
       "      <td>2500 LV</td>\n",
       "      <td>1229 RV</td>\n",
       "      <td>Biden +3</td>\n",
       "      <td>Biden +9</td>\n",
       "      <td>3</td>\n",
       "      <td>9</td>\n",
       "    </tr>\n",
       "    <tr>\n",
       "      <td>4</td>\n",
       "      <td>Emerson</td>\n",
       "      <td>Economist/YouGov</td>\n",
       "      <td>7/29 - 7/30</td>\n",
       "      <td>7/26 - 7/28</td>\n",
       "      <td>964 LV</td>\n",
       "      <td>1260 RV</td>\n",
       "      <td>Biden +4</td>\n",
       "      <td>Biden +9</td>\n",
       "      <td>4</td>\n",
       "      <td>9</td>\n",
       "    </tr>\n",
       "  </tbody>\n",
       "</table>\n",
       "</div>"
      ],
      "text/plain": [
       "                   Source_LV         Source_RV    Period_LV    Period_RV  \\\n",
       "0  CNBC/Change Research (D)*  Economist/YouGov    8/7 - 8/9   8/9 - 8/11   \n",
       "1          Rasmussen Reports         Monmouth*   8/5 - 8/11   8/6 - 8/10   \n",
       "2   GU Politics/Battleground  The Hill/HarrisX    8/1 - 8/6    8/2 - 8/5   \n",
       "3          Rasmussen Reports  Economist/YouGov   7/29 - 8/4    8/2 - 8/4   \n",
       "4                    Emerson  Economist/YouGov  7/29 - 7/30  7/26 - 7/28   \n",
       "\n",
       "  Sample_and_Kind_LV Sample_and_Kind_RV  Result_LV  Result_RV  Biden_Trump_LV  \\\n",
       "0            2143 LV            1208 RV   Biden +6  Biden +10               6   \n",
       "1            2500 LV             785 RV   Biden +6  Biden +10               6   \n",
       "2            1000 LV            2850 RV  Biden +13   Biden +3              13   \n",
       "3            2500 LV            1229 RV   Biden +3   Biden +9               3   \n",
       "4             964 LV            1260 RV   Biden +4   Biden +9               4   \n",
       "\n",
       "   Biden_Trump_RV  \n",
       "0              10  \n",
       "1              10  \n",
       "2               3  \n",
       "3               9  \n",
       "4               9  "
      ]
     },
     "execution_count": 2,
     "metadata": {},
     "output_type": "execute_result"
    }
   ],
   "source": [
    "poll2020 = pd.read_csv(\"USElection2020_Polls_LVRV_Diff.csv\")\n",
    "\n",
    "poll2020.head()"
   ]
  },
  {
   "cell_type": "code",
   "execution_count": 3,
   "metadata": {},
   "outputs": [
    {
     "data": {
      "text/plain": [
       "Ttest_indResult(statistic=-3.2123228986059256, pvalue=0.00260076957222437)"
      ]
     },
     "execution_count": 3,
     "metadata": {},
     "output_type": "execute_result"
    }
   ],
   "source": [
    "stats.ttest_ind(poll2020['Biden_Trump_LV'], poll2020['Biden_Trump_RV'])"
   ]
  },
  {
   "cell_type": "code",
   "execution_count": 4,
   "metadata": {},
   "outputs": [
    {
     "data": {
      "text/plain": [
       "6.333333333333333"
      ]
     },
     "execution_count": 4,
     "metadata": {},
     "output_type": "execute_result"
    }
   ],
   "source": [
    "poll2020['Biden_Trump_LV'].mean()"
   ]
  },
  {
   "cell_type": "code",
   "execution_count": 10,
   "metadata": {},
   "outputs": [
    {
     "data": {
      "text/plain": [
       "6.0"
      ]
     },
     "execution_count": 10,
     "metadata": {},
     "output_type": "execute_result"
    }
   ],
   "source": [
    "poll2020['Biden_Trump_LV'].median()"
   ]
  },
  {
   "cell_type": "code",
   "execution_count": 5,
   "metadata": {},
   "outputs": [
    {
     "data": {
      "text/plain": [
       "9.095238095238095"
      ]
     },
     "execution_count": 5,
     "metadata": {},
     "output_type": "execute_result"
    }
   ],
   "source": [
    "poll2020['Biden_Trump_RV'].mean()"
   ]
  },
  {
   "cell_type": "code",
   "execution_count": 11,
   "metadata": {},
   "outputs": [
    {
     "data": {
      "text/plain": [
       "9.0"
      ]
     },
     "execution_count": 11,
     "metadata": {},
     "output_type": "execute_result"
    }
   ],
   "source": [
    "poll2020['Biden_Trump_RV'].median()"
   ]
  },
  {
   "cell_type": "code",
   "execution_count": 6,
   "metadata": {},
   "outputs": [
    {
     "data": {
      "text/html": [
       "<div>\n",
       "<style scoped>\n",
       "    .dataframe tbody tr th:only-of-type {\n",
       "        vertical-align: middle;\n",
       "    }\n",
       "\n",
       "    .dataframe tbody tr th {\n",
       "        vertical-align: top;\n",
       "    }\n",
       "\n",
       "    .dataframe thead th {\n",
       "        text-align: right;\n",
       "    }\n",
       "</style>\n",
       "<table border=\"1\" class=\"dataframe\">\n",
       "  <thead>\n",
       "    <tr style=\"text-align: right;\">\n",
       "      <th></th>\n",
       "      <th>Source_LV</th>\n",
       "      <th>Source_RV</th>\n",
       "      <th>Period_LV</th>\n",
       "      <th>Period_RV</th>\n",
       "      <th>Sample_and_Kind_LV</th>\n",
       "      <th>Sample_and_Kind_RV</th>\n",
       "      <th>Result_LV</th>\n",
       "      <th>Result_RV</th>\n",
       "      <th>Hillary_Trump_LV</th>\n",
       "      <th>Hillary_Trump_RV</th>\n",
       "    </tr>\n",
       "  </thead>\n",
       "  <tbody>\n",
       "    <tr>\n",
       "      <td>0</td>\n",
       "      <td>Rasmussen Reports</td>\n",
       "      <td>ABC News/Wash Post</td>\n",
       "      <td>7/12 - 7/13</td>\n",
       "      <td>7/11 - 7/14</td>\n",
       "      <td>1000 LV</td>\n",
       "      <td>816 RV</td>\n",
       "      <td>Trump +7</td>\n",
       "      <td>Clinton +4</td>\n",
       "      <td>-7</td>\n",
       "      <td>4</td>\n",
       "    </tr>\n",
       "    <tr>\n",
       "      <td>1</td>\n",
       "      <td>Rasmussen Reports</td>\n",
       "      <td>McClatchy/Marist</td>\n",
       "      <td>7/5 - 7/5</td>\n",
       "      <td>7/5 - 7/9</td>\n",
       "      <td>1000 LV</td>\n",
       "      <td>1053 RV</td>\n",
       "      <td>Trump +2</td>\n",
       "      <td>Clinton +3</td>\n",
       "      <td>-2</td>\n",
       "      <td>3</td>\n",
       "    </tr>\n",
       "    <tr>\n",
       "      <td>2</td>\n",
       "      <td>USA Today/Suffolk</td>\n",
       "      <td>PPP (D)</td>\n",
       "      <td>6/26 - 6/29</td>\n",
       "      <td>6/27 - 6/28</td>\n",
       "      <td>1000 LV</td>\n",
       "      <td>947 RV</td>\n",
       "      <td>Clinton +6</td>\n",
       "      <td>Clinton +4</td>\n",
       "      <td>6</td>\n",
       "      <td>4</td>\n",
       "    </tr>\n",
       "    <tr>\n",
       "      <td>3</td>\n",
       "      <td>Rasmussen Reports</td>\n",
       "      <td>NBC News/Wall St. Jrnl</td>\n",
       "      <td>6/20 - 6/21</td>\n",
       "      <td>6/19 - 6/23</td>\n",
       "      <td>1000 LV</td>\n",
       "      <td>1000 RV</td>\n",
       "      <td>Clinton +5</td>\n",
       "      <td>Clinton +5</td>\n",
       "      <td>5</td>\n",
       "      <td>5</td>\n",
       "    </tr>\n",
       "    <tr>\n",
       "      <td>4</td>\n",
       "      <td>Monmouth</td>\n",
       "      <td>CNN/ORC</td>\n",
       "      <td>6/15 - 6/19</td>\n",
       "      <td>6/16 - 6/19</td>\n",
       "      <td>721 LV</td>\n",
       "      <td>891 RV</td>\n",
       "      <td>Clinton +8</td>\n",
       "      <td>Clinton +5</td>\n",
       "      <td>8</td>\n",
       "      <td>5</td>\n",
       "    </tr>\n",
       "  </tbody>\n",
       "</table>\n",
       "</div>"
      ],
      "text/plain": [
       "           Source_LV               Source_RV    Period_LV    Period_RV  \\\n",
       "0  Rasmussen Reports      ABC News/Wash Post  7/12 - 7/13  7/11 - 7/14   \n",
       "1  Rasmussen Reports        McClatchy/Marist    7/5 - 7/5    7/5 - 7/9   \n",
       "2  USA Today/Suffolk                 PPP (D)  6/26 - 6/29  6/27 - 6/28   \n",
       "3  Rasmussen Reports  NBC News/Wall St. Jrnl  6/20 - 6/21  6/19 - 6/23   \n",
       "4           Monmouth                 CNN/ORC  6/15 - 6/19  6/16 - 6/19   \n",
       "\n",
       "  Sample_and_Kind_LV Sample_and_Kind_RV   Result_LV   Result_RV  \\\n",
       "0            1000 LV             816 RV    Trump +7  Clinton +4   \n",
       "1            1000 LV            1053 RV    Trump +2  Clinton +3   \n",
       "2            1000 LV             947 RV  Clinton +6  Clinton +4   \n",
       "3            1000 LV            1000 RV  Clinton +5  Clinton +5   \n",
       "4             721 LV             891 RV  Clinton +8  Clinton +5   \n",
       "\n",
       "   Hillary_Trump_LV  Hillary_Trump_RV  \n",
       "0                -7                 4  \n",
       "1                -2                 3  \n",
       "2                 6                 4  \n",
       "3                 5                 5  \n",
       "4                 8                 5  "
      ]
     },
     "execution_count": 6,
     "metadata": {},
     "output_type": "execute_result"
    }
   ],
   "source": [
    "poll2016 = pd.read_csv(\"USElection2016_Polls_LVRV_Diff.csv\")\n",
    "\n",
    "poll2016.head()"
   ]
  },
  {
   "cell_type": "code",
   "execution_count": 7,
   "metadata": {},
   "outputs": [
    {
     "data": {
      "text/plain": [
       "Ttest_indResult(statistic=-1.4717859376124796, pvalue=0.15084591470809633)"
      ]
     },
     "execution_count": 7,
     "metadata": {},
     "output_type": "execute_result"
    }
   ],
   "source": [
    "stats.ttest_ind(poll2016['Hillary_Trump_LV'], poll2016['Hillary_Trump_RV'])"
   ]
  },
  {
   "cell_type": "code",
   "execution_count": 8,
   "metadata": {},
   "outputs": [
    {
     "data": {
      "text/plain": [
       "2.9411764705882355"
      ]
     },
     "execution_count": 8,
     "metadata": {},
     "output_type": "execute_result"
    }
   ],
   "source": [
    "poll2016['Hillary_Trump_LV'].mean()"
   ]
  },
  {
   "cell_type": "code",
   "execution_count": 12,
   "metadata": {},
   "outputs": [
    {
     "data": {
      "text/plain": [
       "3.0"
      ]
     },
     "execution_count": 12,
     "metadata": {},
     "output_type": "execute_result"
    }
   ],
   "source": [
    "poll2016['Hillary_Trump_LV'].median()"
   ]
  },
  {
   "cell_type": "code",
   "execution_count": 9,
   "metadata": {},
   "outputs": [
    {
     "data": {
      "text/plain": [
       "5.529411764705882"
      ]
     },
     "execution_count": 9,
     "metadata": {},
     "output_type": "execute_result"
    }
   ],
   "source": [
    "poll2016['Hillary_Trump_RV'].mean()"
   ]
  },
  {
   "cell_type": "code",
   "execution_count": 13,
   "metadata": {},
   "outputs": [
    {
     "data": {
      "text/plain": [
       "5.0"
      ]
     },
     "execution_count": 13,
     "metadata": {},
     "output_type": "execute_result"
    }
   ],
   "source": [
    "poll2016['Hillary_Trump_RV'].median()"
   ]
  },
  {
   "cell_type": "code",
   "execution_count": null,
   "metadata": {},
   "outputs": [],
   "source": []
  },
  {
   "cell_type": "code",
   "execution_count": null,
   "metadata": {},
   "outputs": [],
   "source": []
  },
  {
   "cell_type": "code",
   "execution_count": null,
   "metadata": {},
   "outputs": [],
   "source": []
  }
 ],
 "metadata": {
  "kernelspec": {
   "display_name": "Python 3",
   "language": "python",
   "name": "python3"
  },
  "language_info": {
   "codemirror_mode": {
    "name": "ipython",
    "version": 3
   },
   "file_extension": ".py",
   "mimetype": "text/x-python",
   "name": "python",
   "nbconvert_exporter": "python",
   "pygments_lexer": "ipython3",
   "version": "3.7.4"
  }
 },
 "nbformat": 4,
 "nbformat_minor": 2
}
